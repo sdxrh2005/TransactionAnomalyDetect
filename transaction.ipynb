{
 "cells": [
  {
   "cell_type": "code",
   "execution_count": 1,
   "metadata": {},
   "outputs": [
    {
     "name": "stderr",
     "output_type": "stream",
     "text": [
      "Using TensorFlow backend.\n"
     ]
    }
   ],
   "source": [
    "import numpy as np\n",
    "from sklearn.metrics import classification_report\n",
    "from sklearn.preprocessing import StandardScaler\n",
    "from sklearn.preprocessing import LabelEncoder\n",
    "\n",
    "import keras\n",
    "from keras.layers.core import Dense, Activation, Dropout\n",
    "from keras.layers.recurrent import LSTM\n",
    "from keras.models import Sequential\n",
    "from keras.models import model_from_json\n",
    "from keras.utils import to_categorical\n",
    "from sklearn.utils import class_weight\n",
    "\n",
    "import time \n",
    "import sys\n",
    "import os\n",
    "from collections import Counter\n",
    "import pickle as pkl\n",
    "import pandas as pd\n",
    "from matplotlib import pyplot as plt"
   ]
  },
  {
   "cell_type": "code",
   "execution_count": 2,
   "metadata": {},
   "outputs": [],
   "source": [
    "def load_dataset(filename):\n",
    "    dataset = pd.read_csv(filename,index_col = \"TR_NO\",usecols = [\"TR_NO\",\"TR_AMT\",\"TR_BAL_AMT\",\"FUND_USE\",\"IS_CASH\"])\n",
    "    dataset = dataset.replace([np.inf, -np.inf], np.nan).fillna(value=0)\n",
    "    return dataset\n",
    "\n",
    "def get_negtive_trans(filename):\n",
    "    return set(pd.read_csv(filename)[\"TR_NO\"].values)"
   ]
  },
  {
   "cell_type": "code",
   "execution_count": 3,
   "metadata": {},
   "outputs": [],
   "source": [
    "training_dataset_filename = \"T3H_TRANS_ALL_WW_DATA_TABLE.csv\"\n",
    "case_filename = \"T3H_TRANS_YSB_WW_DATA_TABLE.csv\"\n",
    "\n",
    "## ------- load dataset --------\n",
    "if not os.path.exists(\"unsup_cases.pkl\") or not os.path.exists(\"unsup_training_dataset.pkl\"):\n",
    "    training_dataset = load_dataset(training_dataset_filename)\n",
    "    cases = get_negtive_trans(case_filename)\n",
    "\n",
    "    with open(\"unsup_cases.pkl\",\"wb\") as f:\n",
    "        pkl.dump(cases,f)\n",
    "    with open(\"unsup_training_dataset.pkl\",\"wb\") as f:\n",
    "        pkl.dump(training_dataset,f)\n",
    "else:\n",
    "    with open(\"unsup_cases.pkl\",\"rb\") as f:\n",
    "        cases = pkl.load(f)\n",
    "    with open(\"unsup_training_dataset.pkl\",\"rb\") as f:\n",
    "        training_dataset = pkl.load(f)"
   ]
  },
  {
   "cell_type": "markdown",
   "metadata": {},
   "source": [
    "## Feature engneering"
   ]
  },
  {
   "cell_type": "code",
   "execution_count": 4,
   "metadata": {
    "scrolled": true
   },
   "outputs": [
    {
     "data": {
      "text/html": [
       "<div>\n",
       "<style scoped>\n",
       "    .dataframe tbody tr th:only-of-type {\n",
       "        vertical-align: middle;\n",
       "    }\n",
       "\n",
       "    .dataframe tbody tr th {\n",
       "        vertical-align: top;\n",
       "    }\n",
       "\n",
       "    .dataframe thead th {\n",
       "        text-align: right;\n",
       "    }\n",
       "</style>\n",
       "<table border=\"1\" class=\"dataframe\">\n",
       "  <thead>\n",
       "    <tr style=\"text-align: right;\">\n",
       "      <th></th>\n",
       "      <th>IS_CASH</th>\n",
       "      <th>TR_AMT</th>\n",
       "      <th>TR_BAL_AMT</th>\n",
       "      <th>FUND_USE</th>\n",
       "    </tr>\n",
       "    <tr>\n",
       "      <th>TR_NO</th>\n",
       "      <th></th>\n",
       "      <th></th>\n",
       "      <th></th>\n",
       "      <th></th>\n",
       "    </tr>\n",
       "  </thead>\n",
       "  <tbody>\n",
       "    <tr>\n",
       "      <th>0013840100000026</th>\n",
       "      <td>1</td>\n",
       "      <td>61260.0</td>\n",
       "      <td>111260.0</td>\n",
       "      <td>974</td>\n",
       "    </tr>\n",
       "    <tr>\n",
       "      <th>0013840100000027</th>\n",
       "      <td>1</td>\n",
       "      <td>110000.0</td>\n",
       "      <td>1260.0</td>\n",
       "      <td>783</td>\n",
       "    </tr>\n",
       "    <tr>\n",
       "      <th>0013840100000027</th>\n",
       "      <td>1</td>\n",
       "      <td>110000.0</td>\n",
       "      <td>110000.0</td>\n",
       "      <td>783</td>\n",
       "    </tr>\n",
       "    <tr>\n",
       "      <th>0013840100000028</th>\n",
       "      <td>0</td>\n",
       "      <td>10000.0</td>\n",
       "      <td>0.0</td>\n",
       "      <td>973</td>\n",
       "    </tr>\n",
       "    <tr>\n",
       "      <th>0013840100000029</th>\n",
       "      <td>0</td>\n",
       "      <td>12000.0</td>\n",
       "      <td>12000.0</td>\n",
       "      <td>737</td>\n",
       "    </tr>\n",
       "  </tbody>\n",
       "</table>\n",
       "</div>"
      ],
      "text/plain": [
       "                  IS_CASH    TR_AMT  TR_BAL_AMT  FUND_USE\n",
       "TR_NO                                                    \n",
       "0013840100000026        1   61260.0    111260.0       974\n",
       "0013840100000027        1  110000.0      1260.0       783\n",
       "0013840100000027        1  110000.0    110000.0       783\n",
       "0013840100000028        0   10000.0         0.0       973\n",
       "0013840100000029        0   12000.0     12000.0       737"
      ]
     },
     "execution_count": 4,
     "metadata": {},
     "output_type": "execute_result"
    }
   ],
   "source": [
    "encoder = LabelEncoder()\n",
    "training_dataset[\"FUND_USE\"] = encoder.fit_transform(training_dataset[\"FUND_USE\"].astype(str))\n",
    "training_dataset.head()"
   ]
  },
  {
   "cell_type": "markdown",
   "metadata": {},
   "source": [
    "## 查看每个TR_NO交易个数"
   ]
  },
  {
   "cell_type": "code",
   "execution_count": 5,
   "metadata": {},
   "outputs": [
    {
     "name": "stdout",
     "output_type": "stream",
     "text": [
      "TR_NO\n",
      "00000000000020180814000300014016    1\n",
      "00000000000020180814000300014021    1\n",
      "00000000000020180814000300014026    1\n",
      "00000000000020180814000300014032    1\n",
      "00000000000020180814000300014038    1\n",
      "dtype: int64\n",
      "\n",
      "TR_NO\n",
      "ED00010101000001    30\n",
      "ED00010101000011    23\n",
      "ED00010101000040    24\n",
      "ED00010101000110    21\n",
      "ED00010101000126    15\n",
      "dtype: int64\n",
      "\n",
      "count    4698.000000\n",
      "mean       24.579821\n",
      "std        10.213524\n",
      "min         1.000000\n",
      "25%        18.000000\n",
      "50%        31.000000\n",
      "75%        32.000000\n",
      "max        55.000000\n",
      "dtype: float64\n"
     ]
    }
   ],
   "source": [
    "print(training_dataset.groupby(\"TR_NO\").size().head())\n",
    "print(\"\")\n",
    "print(training_dataset.loc[cases].groupby(\"TR_NO\").size().head())\n",
    "print(\"\")\n",
    "print(training_dataset.loc[cases].groupby(\"TR_NO\").size().describe())"
   ]
  },
  {
   "cell_type": "markdown",
   "metadata": {},
   "source": [
    "## create NUM_TRANS"
   ]
  },
  {
   "cell_type": "code",
   "execution_count": 6,
   "metadata": {
    "scrolled": true
   },
   "outputs": [],
   "source": [
    "table = training_dataset.groupby(\"TR_NO\").size().to_dict()\n",
    "values = training_dataset.index.to_series().map(table)\n",
    "training_dataset[\"NUM_TRANS\"] = values"
   ]
  },
  {
   "cell_type": "code",
   "execution_count": 7,
   "metadata": {},
   "outputs": [],
   "source": [
    "abnormal_transactions = training_dataset.loc[cases]"
   ]
  },
  {
   "cell_type": "markdown",
   "metadata": {},
   "source": [
    "## IS_CASH"
   ]
  },
  {
   "cell_type": "code",
   "execution_count": 8,
   "metadata": {
    "scrolled": true
   },
   "outputs": [
    {
     "data": {
      "text/plain": [
       "<matplotlib.axes._subplots.AxesSubplot at 0x144b10048>"
      ]
     },
     "execution_count": 8,
     "metadata": {},
     "output_type": "execute_result"
    },
    {
     "data": {
      "image/png": "[encoded data removed]",
      "text/plain": [
       "<Figure size 432x288 with 2 Axes>"
      ]
     },
     "metadata": {
      "needs_background": "light"
     },
     "output_type": "display_data"
    }
   ],
   "source": [
    "%matplotlib inline\n",
    "plt.subplot(2, 1, 1)\n",
    "abnormal_transactions[\"IS_CASH\"].hist(bins = 40)\n",
    "plt.subplot(2,1,2)\n",
    "training_dataset[\"IS_CASH\"].hist(bins = 40)"
   ]
  },
  {
   "cell_type": "markdown",
   "metadata": {},
   "source": [
    "## FUND_USE"
   ]
  },
  {
   "cell_type": "code",
   "execution_count": 9,
   "metadata": {
    "scrolled": true
   },
   "outputs": [
    {
     "data": {
      "text/plain": [
       "<matplotlib.axes._subplots.AxesSubplot at 0x144b6f860>"
      ]
     },
     "execution_count": 9,
     "metadata": {},
     "output_type": "execute_result"
    },
    {
     "data": {
      "image/png": "[encoded data removed]",
      "text/plain": [
       "<Figure size 432x288 with 2 Axes>"
      ]
     },
     "metadata": {
      "needs_background": "light"
     },
     "output_type": "display_data"
    }
   ],
   "source": [
    "%matplotlib inline\n",
    "plt.subplot(2, 1, 1)\n",
    "abnormal_transactions[\"FUND_USE\"].hist(bins = 40)\n",
    "plt.subplot(2,1,2)\n",
    "training_dataset[\"FUND_USE\"].hist(bins = 40)"
   ]
  },
  {
   "cell_type": "markdown",
   "metadata": {},
   "source": [
    "## NUM_TRANS"
   ]
  },
  {
   "cell_type": "code",
   "execution_count": 10,
   "metadata": {},
   "outputs": [
    {
     "data": {
      "text/plain": [
       "<matplotlib.axes._subplots.AxesSubplot at 0x1305f8668>"
      ]
     },
     "execution_count": 10,
     "metadata": {},
     "output_type": "execute_result"
    },
    {
     "data": {
      "image/png": "[encoded data removed]",
      "text/plain": [
       "<Figure size 432x288 with 2 Axes>"
      ]
     },
     "metadata": {
      "needs_background": "light"
     },
     "output_type": "display_data"
    }
   ],
   "source": [
    "%matplotlib inline\n",
    "plt.subplot(2, 1, 1)\n",
    "abnormal_transactions[\"NUM_TRANS\"].hist(bins = 20)\n",
    "plt.subplot(2,1,2)\n",
    "training_dataset[\"NUM_TRANS\"].hist(bins = 20)"
   ]
  },
  {
   "cell_type": "code",
   "execution_count": 11,
   "metadata": {
    "scrolled": true
   },
   "outputs": [
    {
     "name": "stdout",
     "output_type": "stream",
     "text": [
      "(3764326, 5)\n",
      "(115476, 5)\n",
      "                  IS_CASH    TR_AMT  TR_BAL_AMT  FUND_USE  NUM_TRANS\n",
      "TR_NO                                                               \n",
      "0013840100000026        1   61260.0   111260.00       974         22\n",
      "0013840100000027        1  110000.0     1260.00       783         26\n",
      "0013840100000027        1  110000.0   110000.00       783         26\n",
      "0013840100000028        0   10000.0        0.00       973         22\n",
      "0013840100000029        0   12000.0    12000.00       737         27\n",
      "0013840100000057        0     570.0    39939.78       673          1\n",
      "0013840100000058        0    4000.0    10031.05       673          1\n",
      "0013840100000059        0   10000.0    10000.00       737          1\n",
      "0013840100000061        1   27000.0    13183.69       721          1\n",
      "0013840100000062        1   12000.0     1183.69       721          1\n",
      "0013840100000064        1      10.0     1163.69       692          1\n",
      "0014790100000001        0   40000.0    40000.00       737         25\n",
      "0014790100000003        0  100000.0   100000.00       673         18\n",
      "0014790100000004        1   50000.0    50000.00       657         23\n",
      "0014790100000004        1   50000.0    50000.00       657         23\n",
      "0014790100000005        0     300.0        0.15       658         30\n",
      "0014790100000006        0   15500.0       60.50       658         24\n",
      "0014790100000009        0      10.0    13945.28       658         26\n",
      "0014790100000011        1   10000.0    10000.00       657         20\n",
      "0014790100000012        1   10000.0      105.21       657         27\n",
      "                  IS_CASH   TR_AMT  TR_BAL_AMT  FUND_USE  NUM_TRANS\n",
      "TR_NO                                                              \n",
      "IB00430117000062        1   6000.0  1270881.66       721         23\n",
      "IB00430117000062        1  10000.0     9316.57       721         23\n",
      "IB00430117000062        1     64.0      791.05       721         23\n",
      "IB00430117000062        1    370.0     2305.00       721         23\n",
      "IB00430117000062        1   5000.0    14436.00       721         23\n",
      "IB00430117000062        1   3226.0    18700.33       721         23\n",
      "IB00430117000062        1  20000.0   684562.10       721         23\n",
      "IB00430117000062        1  49989.0       48.00       721         23\n",
      "IB00430117000062        1   6130.0    42518.56       721         23\n",
      "IB00430117000062        1   1000.0     1119.00       721         23\n",
      "IB00430117000062        1   2800.0       37.73       721         23\n",
      "IB00430117000062        1    237.0     9895.00       721         23\n",
      "IB00430117000062        1  15000.0     2932.00       721         23\n",
      "IB00430117000062        1   2523.0     8823.00       721         23\n",
      "IB00430117000062        1  50000.0     4886.25       721         23\n",
      "IB00430117000062        1  50000.0     1848.00       721         23\n",
      "IB00430117000062        1   2000.0     9195.16       721         23\n",
      "IB00430117000062        1   5566.0  1603646.46       721         23\n",
      "IB00430117000062        1   1000.0    10393.02       721         23\n",
      "IB00430117000062        1  30500.0    25000.00       721         23\n"
     ]
    }
   ],
   "source": [
    "print(training_dataset.shape)\n",
    "print(abnormal_transactions.shape)\n",
    "print(training_dataset.head(20))\n",
    "print(abnormal_transactions.head(20))"
   ]
  },
  {
   "cell_type": "code",
   "execution_count": 12,
   "metadata": {},
   "outputs": [],
   "source": [
    "def creat_labels(training_dataset,cases):\n",
    "    training_dataset[\"Y\"] = 1\n",
    "    training_dataset.loc[training_dataset.index.isin(cases),\"Y\"] = 0\n",
    "    labels = training_dataset[\"Y\"].values\n",
    "    training_dataset.drop(labels = \"Y\",axis = 1,inplace = True)\n",
    "    return labels\n",
    "labels = creat_labels(training_dataset,cases)    "
   ]
  },
  {
   "cell_type": "code",
   "execution_count": 13,
   "metadata": {
    "scrolled": true
   },
   "outputs": [
    {
     "name": "stdout",
     "output_type": "stream",
     "text": [
      "samples distribution: Counter({1: 3648850, 0: 115476})\n"
     ]
    }
   ],
   "source": [
    "print(\"samples distribution: {}\".format(Counter(labels)))"
   ]
  },
  {
   "cell_type": "markdown",
   "metadata": {},
   "source": [
    "## Nomalization"
   ]
  },
  {
   "cell_type": "code",
   "execution_count": 14,
   "metadata": {},
   "outputs": [
    {
     "name": "stderr",
     "output_type": "stream",
     "text": [
      "/Users/ZRC/miniconda3/envs/bank/lib/python3.6/site-packages/sklearn/preprocessing/data.py:625: DataConversionWarning: Data with input dtype int64, float64 were all converted to float64 by StandardScaler.\n",
      "  return self.partial_fit(X, y)\n",
      "/Users/ZRC/miniconda3/envs/bank/lib/python3.6/site-packages/sklearn/base.py:462: DataConversionWarning: Data with input dtype int64, float64 were all converted to float64 by StandardScaler.\n",
      "  return self.fit(X, **fit_params).transform(X)\n"
     ]
    },
    {
     "data": {
      "text/plain": [
       "array([[ 0.31827256,  0.00667837, -0.11557997,  1.26782744, -0.12897192],\n",
       "       [ 0.31827256,  0.02824937, -0.12438605,  0.60249652, -0.11020922],\n",
       "       [ 0.31827256,  0.02824937, -0.11568084,  0.60249652, -0.11020922],\n",
       "       [-3.14196108, -0.01600791, -0.12448692,  1.26434404, -0.12897192],\n",
       "       [-3.14196108, -0.01512276, -0.12352626,  0.44225975, -0.10551855],\n",
       "       [-3.14196108, -0.02018137, -0.12128953,  0.21932164, -0.22747605],\n",
       "       [-3.14196108, -0.01866334, -0.12368388,  0.21932164, -0.22747605],\n",
       "       [-3.14196108, -0.01600791, -0.12368637,  0.44225975, -0.22747605],\n",
       "       [ 0.31827256, -0.00848417, -0.1234315 ,  0.38652522, -0.22747605],\n",
       "       [ 0.31827256, -0.01512276, -0.12439216,  0.38652522, -0.22747605]])"
      ]
     },
     "execution_count": 14,
     "metadata": {},
     "output_type": "execute_result"
    }
   ],
   "source": [
    "scaler = StandardScaler()\n",
    "training_dataset = scaler.fit_transform(training_dataset)\n",
    "training_dataset[0:10]"
   ]
  },
  {
   "cell_type": "code",
   "execution_count": 15,
   "metadata": {
    "scrolled": true
   },
   "outputs": [],
   "source": [
    "#min_max_scaler = StandardScaler()\n",
    "#training_dataset = min_max_scaler.fit_transform(training_dataset)\n",
    "prediction_time = 1 \n",
    "testdatasize = 100000\n",
    "unroll_length = 50\n",
    "testdatacut = testdatasize + unroll_length  + 1\n",
    "\n",
    "#train data\n",
    "x_train = training_dataset[0:-prediction_time-testdatacut]\n",
    "y_train = labels[prediction_time:-testdatacut]\n",
    "\n",
    "# test data\n",
    "x_test = training_dataset[0-testdatacut:-prediction_time]\n",
    "y_test = labels[prediction_time-testdatacut:]"
   ]
  },
  {
   "cell_type": "code",
   "execution_count": 16,
   "metadata": {},
   "outputs": [
    {
     "name": "stdout",
     "output_type": "stream",
     "text": [
      "x_train (3664274, 5)\n",
      "y_train (3664274,)\n",
      "x_test (100050, 5)\n",
      "y_test (100050,)\n"
     ]
    }
   ],
   "source": [
    "# see the shape\n",
    "print(\"x_train\", x_train.shape)\n",
    "print(\"y_train\", y_train.shape)\n",
    "print(\"x_test\", x_test.shape)\n",
    "print(\"y_test\", y_test.shape)"
   ]
  },
  {
   "cell_type": "code",
   "execution_count": 17,
   "metadata": {
    "scrolled": true
   },
   "outputs": [
    {
     "name": "stdout",
     "output_type": "stream",
     "text": [
      "x_train (3664224, 50, 5)\n",
      "y_train (3664224,)\n",
      "x_test (100000, 50, 5)\n",
      "y_test (100000,)\n"
     ]
    }
   ],
   "source": [
    "def unroll(data,sequence_length=50): \n",
    "    result = []\n",
    "    for index in range(len(data) - sequence_length): \n",
    "        result.append(data[index: index + sequence_length])\n",
    "    return np.asarray(result)\n",
    "    \n",
    "x_train = unroll(x_train,unroll_length)\n",
    "x_test  = unroll(x_test,unroll_length)\n",
    "y_train = y_train[-x_train.shape[0]:]\n",
    "y_test  = y_test[-x_test.shape[0]:]\n",
    "# see the shape\n",
    "print(\"x_train\", x_train.shape)\n",
    "print(\"y_train\", y_train.shape)\n",
    "print(\"x_test\", x_test.shape)\n",
    "print(\"y_test\", y_test.shape)"
   ]
  },
  {
   "cell_type": "code",
   "execution_count": 18,
   "metadata": {},
   "outputs": [
    {
     "name": "stdout",
     "output_type": "stream",
     "text": [
      "distribution of y_test: Counter({1: 97972, 0: 2028})\n"
     ]
    }
   ],
   "source": [
    "print(\"distribution of y_test: {}\".format(Counter(y_test)))"
   ]
  },
  {
   "cell_type": "code",
   "execution_count": 19,
   "metadata": {},
   "outputs": [],
   "source": [
    "model = Sequential()\n",
    "\n",
    "model.add(LSTM(input_shape=(None, 5),\n",
    "               units=50, dropout = 0.2,\n",
    "               return_sequences=True)\n",
    "         )\n",
    "model.add(LSTM(100,dropout= 0.2,return_sequences=False))\n",
    "\n",
    "model.add(Dense(1, activation='sigmoid'))\n",
    "model.compile(loss='binary_crossentropy', optimizer='adam')"
   ]
  },
  {
   "cell_type": "code",
   "execution_count": 20,
   "metadata": {},
   "outputs": [
    {
     "name": "stdout",
     "output_type": "stream",
     "text": [
      "Train on 3297801 samples, validate on 366423 samples\n",
      "Epoch 1/1\n",
      "3297801/3297801 [==============================] - 1880s 570us/step - loss: 0.2007 - val_loss: 0.2143\n"
     ]
    },
    {
     "data": {
      "text/plain": [
       "<keras.callbacks.History at 0x144bc2c18>"
      ]
     },
     "execution_count": 20,
     "metadata": {},
     "output_type": "execute_result"
    }
   ],
   "source": [
    "model.fit(\n",
    "    x_train,\n",
    "    y_train,\n",
    "    batch_size=512,\n",
    "    epochs=1,\n",
    "    class_weight = {1:1.0,0:3.0},\n",
    "    validation_split=0.1)"
   ]
  },
  {
   "cell_type": "code",
   "execution_count": 21,
   "metadata": {},
   "outputs": [],
   "source": [
    "p = model.predict(x_test)"
   ]
  },
  {
   "cell_type": "code",
   "execution_count": 23,
   "metadata": {},
   "outputs": [
    {
     "data": {
      "image/png": "[encoded data removed]",
      "text/plain": [
       "<Figure size 1440x288 with 1 Axes>"
      ]
     },
     "metadata": {
      "needs_background": "light"
     },
     "output_type": "display_data"
    }
   ],
   "source": [
    "plt.figure(figsize = (20,4))\n",
    "plt.plot(p[0:400],color='red', label='prediction')\n",
    "plt.plot(y_test[0:400],color='blue', label='y_test')\n",
    "plt.legend(loc='upper left')\n",
    "plt.show()"
   ]
  },
  {
   "cell_type": "code",
   "execution_count": 27,
   "metadata": {
    "scrolled": true
   },
   "outputs": [
    {
     "name": "stdout",
     "output_type": "stream",
     "text": [
      " 13344/100000 [===>..........................] - ETA: 37s"
     ]
    },
    {
     "ename": "KeyboardInterrupt",
     "evalue": "",
     "output_type": "error",
     "traceback": [
      "\u001b[0;31m---------------------------------------------------------------------------\u001b[0m",
      "\u001b[0;31mKeyboardInterrupt\u001b[0m                         Traceback (most recent call last)",
      "\u001b[0;32m<ipython-input-27-ca78dd82e98e>\u001b[0m in \u001b[0;36m<module>\u001b[0;34m\u001b[0m\n\u001b[0;32m----> 1\u001b[0;31m \u001b[0mprint\u001b[0m\u001b[0;34m(\u001b[0m\u001b[0;34m\"test data evaluate: \"\u001b[0m\u001b[0;34m,\u001b[0m \u001b[0mmodel\u001b[0m\u001b[0;34m.\u001b[0m\u001b[0mevaluate\u001b[0m\u001b[0;34m(\u001b[0m\u001b[0mx_test\u001b[0m\u001b[0;34m,\u001b[0m \u001b[0my_test\u001b[0m\u001b[0;34m)\u001b[0m\u001b[0;34m)\u001b[0m\u001b[0;34m\u001b[0m\u001b[0;34m\u001b[0m\u001b[0m\n\u001b[0m",
      "\u001b[0;32m~/miniconda3/envs/bank/lib/python3.6/site-packages/keras/engine/training.py\u001b[0m in \u001b[0;36mevaluate\u001b[0;34m(self, x, y, batch_size, verbose, sample_weight, steps)\u001b[0m\n\u001b[1;32m   1111\u001b[0m                                          \u001b[0mbatch_size\u001b[0m\u001b[0;34m=\u001b[0m\u001b[0mbatch_size\u001b[0m\u001b[0;34m,\u001b[0m\u001b[0;34m\u001b[0m\u001b[0;34m\u001b[0m\u001b[0m\n\u001b[1;32m   1112\u001b[0m                                          \u001b[0mverbose\u001b[0m\u001b[0;34m=\u001b[0m\u001b[0mverbose\u001b[0m\u001b[0;34m,\u001b[0m\u001b[0;34m\u001b[0m\u001b[0;34m\u001b[0m\u001b[0m\n\u001b[0;32m-> 1113\u001b[0;31m                                          steps=steps)\n\u001b[0m\u001b[1;32m   1114\u001b[0m \u001b[0;34m\u001b[0m\u001b[0m\n\u001b[1;32m   1115\u001b[0m     def predict(self, x,\n",
      "\u001b[0;32m~/miniconda3/envs/bank/lib/python3.6/site-packages/keras/engine/training_arrays.py\u001b[0m in \u001b[0;36mtest_loop\u001b[0;34m(model, f, ins, batch_size, verbose, steps)\u001b[0m\n\u001b[1;32m    390\u001b[0m                 \u001b[0mins_batch\u001b[0m\u001b[0;34m[\u001b[0m\u001b[0mi\u001b[0m\u001b[0;34m]\u001b[0m \u001b[0;34m=\u001b[0m \u001b[0mins_batch\u001b[0m\u001b[0;34m[\u001b[0m\u001b[0mi\u001b[0m\u001b[0;34m]\u001b[0m\u001b[0;34m.\u001b[0m\u001b[0mtoarray\u001b[0m\u001b[0;34m(\u001b[0m\u001b[0;34m)\u001b[0m\u001b[0;34m\u001b[0m\u001b[0;34m\u001b[0m\u001b[0m\n\u001b[1;32m    391\u001b[0m \u001b[0;34m\u001b[0m\u001b[0m\n\u001b[0;32m--> 392\u001b[0;31m             \u001b[0mbatch_outs\u001b[0m \u001b[0;34m=\u001b[0m \u001b[0mf\u001b[0m\u001b[0;34m(\u001b[0m\u001b[0mins_batch\u001b[0m\u001b[0;34m)\u001b[0m\u001b[0;34m\u001b[0m\u001b[0;34m\u001b[0m\u001b[0m\n\u001b[0m\u001b[1;32m    393\u001b[0m             \u001b[0;32mif\u001b[0m \u001b[0misinstance\u001b[0m\u001b[0;34m(\u001b[0m\u001b[0mbatch_outs\u001b[0m\u001b[0;34m,\u001b[0m \u001b[0mlist\u001b[0m\u001b[0;34m)\u001b[0m\u001b[0;34m:\u001b[0m\u001b[0;34m\u001b[0m\u001b[0;34m\u001b[0m\u001b[0m\n\u001b[1;32m    394\u001b[0m                 \u001b[0;32mif\u001b[0m \u001b[0mbatch_index\u001b[0m \u001b[0;34m==\u001b[0m \u001b[0;36m0\u001b[0m\u001b[0;34m:\u001b[0m\u001b[0;34m\u001b[0m\u001b[0;34m\u001b[0m\u001b[0m\n",
      "\u001b[0;32m~/miniconda3/envs/bank/lib/python3.6/site-packages/keras/backend/tensorflow_backend.py\u001b[0m in \u001b[0;36m__call__\u001b[0;34m(self, inputs)\u001b[0m\n\u001b[1;32m   2713\u001b[0m                 \u001b[0;32mreturn\u001b[0m \u001b[0mself\u001b[0m\u001b[0;34m.\u001b[0m\u001b[0m_legacy_call\u001b[0m\u001b[0;34m(\u001b[0m\u001b[0minputs\u001b[0m\u001b[0;34m)\u001b[0m\u001b[0;34m\u001b[0m\u001b[0;34m\u001b[0m\u001b[0m\n\u001b[1;32m   2714\u001b[0m \u001b[0;34m\u001b[0m\u001b[0m\n\u001b[0;32m-> 2715\u001b[0;31m             \u001b[0;32mreturn\u001b[0m \u001b[0mself\u001b[0m\u001b[0;34m.\u001b[0m\u001b[0m_call\u001b[0m\u001b[0;34m(\u001b[0m\u001b[0minputs\u001b[0m\u001b[0;34m)\u001b[0m\u001b[0;34m\u001b[0m\u001b[0;34m\u001b[0m\u001b[0m\n\u001b[0m\u001b[1;32m   2716\u001b[0m         \u001b[0;32melse\u001b[0m\u001b[0;34m:\u001b[0m\u001b[0;34m\u001b[0m\u001b[0;34m\u001b[0m\u001b[0m\n\u001b[1;32m   2717\u001b[0m             \u001b[0;32mif\u001b[0m \u001b[0mpy_any\u001b[0m\u001b[0;34m(\u001b[0m\u001b[0mis_tensor\u001b[0m\u001b[0;34m(\u001b[0m\u001b[0mx\u001b[0m\u001b[0;34m)\u001b[0m \u001b[0;32mfor\u001b[0m \u001b[0mx\u001b[0m \u001b[0;32min\u001b[0m \u001b[0minputs\u001b[0m\u001b[0;34m)\u001b[0m\u001b[0;34m:\u001b[0m\u001b[0;34m\u001b[0m\u001b[0;34m\u001b[0m\u001b[0m\n",
      "\u001b[0;32m~/miniconda3/envs/bank/lib/python3.6/site-packages/keras/backend/tensorflow_backend.py\u001b[0m in \u001b[0;36m_call\u001b[0;34m(self, inputs)\u001b[0m\n\u001b[1;32m   2673\u001b[0m             \u001b[0mfetched\u001b[0m \u001b[0;34m=\u001b[0m \u001b[0mself\u001b[0m\u001b[0;34m.\u001b[0m\u001b[0m_callable_fn\u001b[0m\u001b[0;34m(\u001b[0m\u001b[0;34m*\u001b[0m\u001b[0marray_vals\u001b[0m\u001b[0;34m,\u001b[0m \u001b[0mrun_metadata\u001b[0m\u001b[0;34m=\u001b[0m\u001b[0mself\u001b[0m\u001b[0;34m.\u001b[0m\u001b[0mrun_metadata\u001b[0m\u001b[0;34m)\u001b[0m\u001b[0;34m\u001b[0m\u001b[0;34m\u001b[0m\u001b[0m\n\u001b[1;32m   2674\u001b[0m         \u001b[0;32melse\u001b[0m\u001b[0;34m:\u001b[0m\u001b[0;34m\u001b[0m\u001b[0;34m\u001b[0m\u001b[0m\n\u001b[0;32m-> 2675\u001b[0;31m             \u001b[0mfetched\u001b[0m \u001b[0;34m=\u001b[0m \u001b[0mself\u001b[0m\u001b[0;34m.\u001b[0m\u001b[0m_callable_fn\u001b[0m\u001b[0;34m(\u001b[0m\u001b[0;34m*\u001b[0m\u001b[0marray_vals\u001b[0m\u001b[0;34m)\u001b[0m\u001b[0;34m\u001b[0m\u001b[0;34m\u001b[0m\u001b[0m\n\u001b[0m\u001b[1;32m   2676\u001b[0m         \u001b[0;32mreturn\u001b[0m \u001b[0mfetched\u001b[0m\u001b[0;34m[\u001b[0m\u001b[0;34m:\u001b[0m\u001b[0mlen\u001b[0m\u001b[0;34m(\u001b[0m\u001b[0mself\u001b[0m\u001b[0;34m.\u001b[0m\u001b[0moutputs\u001b[0m\u001b[0;34m)\u001b[0m\u001b[0;34m]\u001b[0m\u001b[0;34m\u001b[0m\u001b[0;34m\u001b[0m\u001b[0m\n\u001b[1;32m   2677\u001b[0m \u001b[0;34m\u001b[0m\u001b[0m\n",
      "\u001b[0;32m~/miniconda3/envs/bank/lib/python3.6/site-packages/tensorflow/python/client/session.py\u001b[0m in \u001b[0;36m__call__\u001b[0;34m(self, *args, **kwargs)\u001b[0m\n\u001b[1;32m   1437\u001b[0m           ret = tf_session.TF_SessionRunCallable(\n\u001b[1;32m   1438\u001b[0m               \u001b[0mself\u001b[0m\u001b[0;34m.\u001b[0m\u001b[0m_session\u001b[0m\u001b[0;34m.\u001b[0m\u001b[0m_session\u001b[0m\u001b[0;34m,\u001b[0m \u001b[0mself\u001b[0m\u001b[0;34m.\u001b[0m\u001b[0m_handle\u001b[0m\u001b[0;34m,\u001b[0m \u001b[0margs\u001b[0m\u001b[0;34m,\u001b[0m \u001b[0mstatus\u001b[0m\u001b[0;34m,\u001b[0m\u001b[0;34m\u001b[0m\u001b[0;34m\u001b[0m\u001b[0m\n\u001b[0;32m-> 1439\u001b[0;31m               run_metadata_ptr)\n\u001b[0m\u001b[1;32m   1440\u001b[0m         \u001b[0;32mif\u001b[0m \u001b[0mrun_metadata\u001b[0m\u001b[0;34m:\u001b[0m\u001b[0;34m\u001b[0m\u001b[0;34m\u001b[0m\u001b[0m\n\u001b[1;32m   1441\u001b[0m           \u001b[0mproto_data\u001b[0m \u001b[0;34m=\u001b[0m \u001b[0mtf_session\u001b[0m\u001b[0;34m.\u001b[0m\u001b[0mTF_GetBuffer\u001b[0m\u001b[0;34m(\u001b[0m\u001b[0mrun_metadata_ptr\u001b[0m\u001b[0;34m)\u001b[0m\u001b[0;34m\u001b[0m\u001b[0;34m\u001b[0m\u001b[0m\n",
      "\u001b[0;31mKeyboardInterrupt\u001b[0m: "
     ]
    }
   ],
   "source": [
    "print(\"test data evaluate: \", model.evaluate(x_test, y_test))"
   ]
  },
  {
   "cell_type": "code",
   "execution_count": 31,
   "metadata": {
    "scrolled": true
   },
   "outputs": [
    {
     "name": "stdout",
     "output_type": "stream",
     "text": [
      "              precision    recall  f1-score   support\n",
      "\n",
      "           0       0.03      0.93      0.06      2028\n",
      "           1       1.00      0.44      0.61     97972\n",
      "\n",
      "   micro avg       0.45      0.45      0.45    100000\n",
      "   macro avg       0.52      0.69      0.34    100000\n",
      "weighted avg       0.98      0.45      0.60    100000\n",
      "\n"
     ]
    }
   ],
   "source": [
    "threhold = 0.9\n",
    "pred_labels = [0 if label < threhold else 1 for label in a]\n",
    "print(classification_report(y_test, pred_labels))"
   ]
  },
  {
   "cell_type": "code",
   "execution_count": null,
   "metadata": {},
   "outputs": [],
   "source": []
  }
 ],
 "metadata": {
  "kernelspec": {
   "display_name": "Python (bank)~",
   "language": "python",
   "name": "myenv"
  },
  "language_info": {
   "codemirror_mode": {
    "name": "ipython",
    "version": 3
   },
   "file_extension": ".py",
   "mimetype": "text/x-python",
   "name": "python",
   "nbconvert_exporter": "python",
   "pygments_lexer": "ipython3",
   "version": "3.6.8"
  }
 },
 "nbformat": 4,
 "nbformat_minor": 2
}
