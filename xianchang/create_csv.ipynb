{
 "cells": [
  {
   "cell_type": "code",
   "execution_count": 1,
   "metadata": {},
   "outputs": [],
   "source": [
    "import pandas as pd\n",
    "import pickle as pkl\n",
    "import os\n",
    "import time\n",
    "import sys\n",
    "import cx_Oracle\n",
    "\n",
    "sys.path.append(\"../\")\n",
    "oracle_conn = cx_Oracle.connect(\"run\", \"run\", \"40.16.17.176:1621/EE.oracle.docker\",encoding = \"UTF-8\",nencoding = \"UTF-8\")"
   ]
  },
  {
   "cell_type": "code",
   "execution_count": 15,
   "metadata": {
    "scrolled": false
   },
   "outputs": [
    {
     "name": "stdout",
     "output_type": "stream",
     "text": [
      "   OPP_ACCT_ID  ACCT_ID\n",
      "0            1        3\n",
      "1            2        4\n",
      "{1: 3, 2: 4}\n"
     ]
    }
   ],
   "source": [
    "def translate_opp_account():\n",
    "    query = \"SELECT OPP_ACCT_ID,OPP_CUST_ID,fa.kehuzhao AS ACCT_ID,fe.duifkhzh AS CUST_ID FROM T2A_TRANS t JOIN F_AG_DP_KDPA_ZHXINX fa ON t.ACCT_ID = fa.zhanghao JOIN F_EV_DP_KDPL_ZHMINX fe ON t.ACCT_ID = fe.zhanghao\"\n",
    "    df = pd.read_sql(query,oracle_conn)\n",
    "    acc_table,cust_table = {},{}\n",
    "    \n",
    "#     d = {'OPP_ACCT_ID': [1, 2], 'ACCT_ID': [3, 4]}\n",
    "#     df = pd.DataFrame(data=d)\n",
    "#     print(df)\n",
    "\n",
    "    def func(row):\n",
    "        acc_table[row[\"OPP_ACCT_ID\"]] = row[\"ACCT_ID\"]\n",
    "        cust_table[row[\"OPP_CUST_ID\"]] = row[\"CUST_ID\"]\n",
    "\n",
    "    df.apply(func,axis = 1)\n",
    "    return acc_table,cust_table\n",
    "\n",
    "acc_table,cust_table = translate_opp_account()"
   ]
  },
  {
   "cell_type": "code",
   "execution_count": null,
   "metadata": {},
   "outputs": [],
   "source": [
    "def save_hall():\n",
    "    query = \"SELECT DISTINCT(YNGYJIGO) FROM F_CM_KTLP_GYCSHU\"\n",
    "    df = pd.read_sql(query,oracle_conn)\n",
    "    df.columns = [\"YNGYJIGO:ID\"]\n",
    "    df[\":LABEL\"] = \"Hall\"\n",
    "    print(df.head())\n",
    "    print(df.shape())\n",
    "    df._to_csv(\"data/hall.csv\")\n",
    "    print(\"save finished\")\n",
    "save_hall()"
   ]
  },
  {
   "cell_type": "code",
   "execution_count": null,
   "metadata": {},
   "outputs": [],
   "source": [
    "def save_hall():\n",
    "    query = \"SELECT DISTINCT(CUST_ID) FROM T2A_TRANS\"\n",
    "    df = pd.read_sql(query,oracle_conn)\n",
    "    \n",
    "    \n",
    "    query_opp = \"SELECT DISTINCT(OPP_CUST_ID) as CUST_ID FROM T2A_TRANS\"\n",
    "    df_opp = pd.read_sql(query_opp,oracle_conn)\n",
    "    \n",
    "    index = 0\n",
    "    def func(row):\n",
    "        df.loc[index,\"CUST_ID\"] = cust_table[row[\"CUST_ID\"]]\n",
    "        index += 1\n",
    "        \n",
    "    df_opp.apply(func,axis = 1)\n",
    "    df = df.append(df_opp)\n",
    " \n",
    "    df.columns = [\"CUST:ID\"]\n",
    "    df[\":LABEL\"] = \"Customer\"\n",
    "    print(df.head())\n",
    "    print(df.shape())\n",
    "    df._to_csv(\"data/customer.csv\")\n",
    "    print(\"save finished\")\n",
    "save_hall()"
   ]
  },
  {
   "cell_type": "code",
   "execution_count": null,
   "metadata": {},
   "outputs": [],
   "source": [
    "def save_account():\n",
    "    query = \"SELECT DISTINCT(ACCT_ID) FROM T2A_TRANS\"\n",
    "    df = pd.read_sql(query,oracle_conn)\n",
    "    \n",
    "    \n",
    "    query_opp = \"SELECT DISTINCT(OPP_ACCT_ID) as ACCT_ID FROM T2A_TRANS\"\n",
    "    df_opp = pd.read_sql(query_opp,oracle_conn)\n",
    "    \n",
    "    index = 0\n",
    "    def func(row):\n",
    "        df_opp.loc[index,\"ACCT_ID\"] = acc_table[row[\"ACCT_ID\"]]\n",
    "        index += 1\n",
    "        \n",
    "    df_opp.apply(func,axis = 1)\n",
    "    df = df.append(df_opp)\n",
    " \n",
    "    df.columns = [\"ACCT:ID\"]\n",
    "    df[\":LABEL\"] = \"ACCT:ID\"\n",
    "    print(df.head())\n",
    "    print(df.shape())\n",
    "    df._to_csv(\"data/account.csv\")\n",
    "    print(\"save finished\")\n",
    "    \n",
    "save_account()"
   ]
  },
  {
   "cell_type": "code",
   "execution_count": null,
   "metadata": {},
   "outputs": [],
   "source": [
    "# 不变\n",
    "def save_teller():\n",
    "    pass \n",
    "    \n",
    "    "
   ]
  },
  {
   "cell_type": "code",
   "execution_count": null,
   "metadata": {},
   "outputs": [],
   "source": [
    "def save_belongTo_rela():\n",
    "    query = \"SELECT CUST_ID,ACCT_ID FROM T2A_TRANS\"\n",
    "    df = pd.read_sql(query,oracle_conn)\n",
    "    \n",
    "    query = \"SELECT OPP_CUST_ID AS CUST_ID,OPP_ACCT_ID AS ACCT_ID FROM T2A_TRANS\"\n",
    "    df_opp = pd.read_sql(query,oracle_conn)\n",
    "    \n",
    "    index = 0\n",
    "    def func(row):\n",
    "        df_opp.loc[index,\"ACCT_ID\"] = acc_table[row[\"ACCT_ID\"]]\n",
    "        df_opp.loc[index,\"CUST_ID\"] = cust_table[row[\"CUST_ID\"]]\n",
    "        index += 1\n",
    "    \n",
    "    df_opp.apply(func,axis = 1)\n",
    "    df = df.append(df_opp)\n",
    "    \n",
    "    df.rename(columns = {\"ACCT_ID\":\":START_ID\",\"CUST_ID\":\":END_ID\"})\n",
    "    df[\":TYPE\"] = \"belongTo\"\n",
    "    \n",
    "    print(df.head())\n",
    "    print(df.shape())\n",
    "    \n",
    "    df._to_csv(\"data/belongTo.csv\")\n",
    "    print(\"save finished\")\n",
    "    \n",
    "save_belongTo_rela()"
   ]
  },
  {
   "cell_type": "code",
   "execution_count": null,
   "metadata": {},
   "outputs": [],
   "source": [
    "def save_beOperated_rela():\n",
    "    query = \"SELECT OPR_ID,ACCT_ID FROM T2A_TRANS\"\n",
    "    df = pd.read_sql(query,oracle_conn)\n",
    "    \n",
    "    query = \"SELECT OPR_ID,OPP_ACCT_ID AS ACCT_ID FROM T2A_TRANS\"\n",
    "    df_opp = pd.read_sql(query,oracle_conn)\n",
    "    \n",
    "    index = 0\n",
    "    def func(row):\n",
    "        df_opp.loc[index,\"ACCT_ID\"] = acc_table[row[\"ACCT_ID\"]]\n",
    "        index += 1\n",
    "    \n",
    "    df_opp.apply(func,axis = 1)\n",
    "    df = df.append(df_opp)\n",
    "    \n",
    "    df.rename(columns = {\"ACCT_ID\":\":START_ID\",\"OPR_ID\":\":END_ID\"})\n",
    "    df[\":TYPE\"] = \"beOperated\"\n",
    "    \n",
    "    print(df.head())\n",
    "    print(df.shape())\n",
    "    df._to_csv(\"data/beOperated.csv\")\n",
    "    print(\"save finished\")\n",
    "    \n",
    "save_beOperated_rela()"
   ]
  },
  {
   "cell_type": "code",
   "execution_count": null,
   "metadata": {},
   "outputs": [],
   "source": [
    "def save_transaction_rela():\n",
    "    acc_table,cust_table = translate_opp_account()\n",
    "    query = \"SELECT TR_NO,TR_TM,TR_AMT,ACCT_ID,OPP_ACCT_ID FROM T2A_TRANS\"\n",
    "    df = pd.read_sql(query,oracle_conn)\n",
    "    \n",
    "    index = 0\n",
    "    def func(row):\n",
    "        df.loc[index,\"OPP_ACCT_ID\"] = acc_table[row[\"OPP_ACCT_ID\"]]\n",
    "        index += 1\n",
    "    \n",
    "    df.apply(func,axis = 1)\n",
    "    \n",
    "    df.rename(columns = {\"ACCT_ID\":\":START_ID\",\"OPP_ACCT_ID\":\":END_ID\"}, inplace = True)\n",
    "    df[\":TYPE\"] = \"transaction\"\n",
    "    df.to_csv(\"data/transaction.csv\")\n",
    "    print(\"Save finished\")\n",
    "\n",
    "save_transaction_rela()"
   ]
  }
 ],
 "metadata": {
  "kernelspec": {
   "display_name": "python gluon",
   "language": "python",
   "name": "gluon"
  },
  "language_info": {
   "codemirror_mode": {
    "name": "ipython",
    "version": 3
   },
   "file_extension": ".py",
   "mimetype": "text/x-python",
   "name": "python",
   "nbconvert_exporter": "python",
   "pygments_lexer": "ipython3",
   "version": "3.6.7"
  }
 },
 "nbformat": 4,
 "nbformat_minor": 2
}
