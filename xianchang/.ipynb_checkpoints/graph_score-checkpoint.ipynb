{
 "cells": [
  {
   "cell_type": "code",
   "execution_count": 1,
   "metadata": {
    "collapsed": true
   },
   "outputs": [],
   "source": [
    "from neo4j import GraphDatabase\n",
    "driver = GraphDatabase.driver(\"bolt://localhost:7687\", auth=(\"neo4j\", \"lv23623600\"))"
   ]
  },
  {
   "cell_type": "markdown",
   "metadata": {},
   "source": [
    "## 添加监督学习结果\n",
    "\n",
    "- 需要 supervised_result.pkl\n",
    "- 需要 predicted_label.pkl"
   ]
  },
  {
   "cell_type": "code",
   "execution_count": null,
   "metadata": {
    "collapsed": true
   },
   "outputs": [],
   "source": [
    "def add_supervised_result(tx):\n",
    "    \"\"\" add supervised learning result\n",
    "    \"\"\"\n",
    "    with open(\"supervised_result.pkl\",\"rb\") as f:\n",
    "        result_dict = pickle.load(f)\n",
    "    for account,score in result_dict.items():\n",
    "        tx.run(\"MATCH (acc:Account) where acc.ACCT_ID = '{}' set acc.supervised_socre = {} return acc;\".format(account,score))\n",
    "\n",
    "\n",
    "    with open(\"predicted_label.pkl\",\"rb\") as f:\n",
    "        label_dict = pickle.load(f)\n",
    "    for account,label in label_dict.items():\n",
    "        tx.run(\"MATCH (acc:Account) where acc.ACCT_ID = '{}' set acc.supervised_label = {} return acc;\".format(account,label))\n",
    "\n",
    "with driver.session() as neo:\n",
    "    neo.write_transaction(add_supervised_result)"
   ]
  },
  {
   "cell_type": "markdown",
   "metadata": {},
   "source": [
    "## 添加非监督学习结果"
   ]
  },
  {
   "cell_type": "code",
   "execution_count": null,
   "metadata": {
    "collapsed": true
   },
   "outputs": [],
   "source": [
    "def add_unsupervised_result(tx):\n",
    "    \"\"\" add unsupervised learning result\n",
    "    \"\"\"\n",
    "    with open(\"unsupervised_result.pkl\",\"r\") as f:\n",
    "        result_dict = pickle.load(f)\n",
    "    for trans,score in result_dict.items():\n",
    "        tx.run(\"MATCH p=()-[r:transaction]->() SET r.abnormal_score = {} where r.TR_NO = {} RETURN p\".format(score,trans))\n",
    "\n",
    "with driver.session() as neo:\n",
    "    neo.write_transaction(add_unsupervised_result)"
   ]
  },
  {
   "cell_type": "markdown",
   "metadata": {},
   "source": [
    "## 运行 louvain, 生成 community"
   ]
  },
  {
   "cell_type": "code",
   "execution_count": null,
   "metadata": {
    "collapsed": true
   },
   "outputs": [],
   "source": [
    "def generate_community(tx):\n",
    "    tx.run(\"MATCH (account:Account {supervised_label: 0 }) CALL algo.louvain('Account', 'transaction', {write:true, writeProperty:'community'}) YIELD nodes, communityCount, iterations, loadMillis, computeMillis, writeMillis;\")\n",
    "\n",
    "with driver.session() as neo:\n",
    "    neo.write_transaction(generate_community)\n",
    "    \n",
    "#MATCH p=(acc1:Account)-[r:transaction]->(acc2:Account) WHERE acc1.community = acc2.community and acc1.supervised_socre > 0.8 return p limit 100"
   ]
  },
  {
   "cell_type": "markdown",
   "metadata": {},
   "source": [
    "## 得到某个account 的 community order by supervised_score"
   ]
  },
  {
   "cell_type": "code",
   "execution_count": 92,
   "metadata": {},
   "outputs": [
    {
     "name": "stdout",
     "output_type": "stream",
     "text": [
      "19011\n",
      "19011\n",
      "18463\n",
      "18463\n",
      "17442\n",
      "17442\n",
      "17442\n",
      "17442\n",
      "18515\n",
      "18515\n"
     ]
    }
   ],
   "source": [
    "acct_id = \"9D46160646AB76E69D9E4C4A676FF503659CB1B079193446A424A0F590E9CFA60CA8B28D6583293D58DFEC42743FE91A0DEC746CCDA9AC58A7D854049CE852AD3810875652BABE709F8A728349AF1824\"\n",
    "def get_community(tx,acct_id,num = 10):\n",
    "    #print(\"MATCH p=(acc1:Account)-[r:transaction]->(acc2:Account) WHERE acc1.ACCT_ID = '{}' AND acc1.community = acc2.community return acc2 order by acc2.supervised_socre LIMIT {}\".format(acct_id,num))\n",
    "    return tx.run(\"MATCH p=(acc1:Account)-[r:transaction]->(acc2:Account) WHERE acc1.ACCT_ID = '{}' AND acc1.community = acc2.community return acc2 order by acc2.supervised_socre LIMIT {}\".format(acct_id,num))\n",
    "\n",
    "with driver.session() as neo:\n",
    "    res = neo.write_transaction(get_community,acct_id)\n",
    "    for node in res:\n",
    "        print(node['acc2'].id)"
   ]
  },
  {
   "cell_type": "markdown",
   "metadata": {},
   "source": [
    "## 运行 pageRank 算法\n",
    "**对监督学习结果判断为异常的账户进行pagerank**"
   ]
  },
  {
   "cell_type": "code",
   "execution_count": null,
   "metadata": {
    "collapsed": true
   },
   "outputs": [],
   "source": [
    "def generate_pageRank(tx):\n",
    "    tx.run(\"MATCH (account:Account {supervised_label: 0 }) CALL algo.pageRank('Account', 'transaction',{iterations:20, dampingFactor:0.85, write: true,writeProperty: 'pagerank'}) YIELD nodes, iterations, loadMillis, computeMillis, writeMillis, dampingFactor, write, writeProperty RETURN *\")\n",
    "# MATCH p=(acc1:Account)-[r:transaction]->(acc2:Account) return p order by acc1.pagerank limit 100"
   ]
  },
  {
   "cell_type": "markdown",
   "metadata": {},
   "source": [
    "## 得到 pagerank 分数"
   ]
  },
  {
   "cell_type": "code",
   "execution_count": 55,
   "metadata": {},
   "outputs": [
    {
     "name": "stdout",
     "output_type": "stream",
     "text": [
      "{'IB0049': 1, 'ED0005': 1, 'ED0011': 1, 'ED0017': 1, 'ED0023': 1, 'ED0029': 1, 'ED0035': 1, 'ED0041': 1, 'IN0032': 1, 'IN0038': 1, 'IN0044': 1, 'PS0015': 1, 'IN0002': 1, 'IN0014': 1, 'IN0020': 1, 'IN0001': 1, 'IN0007': 1, 'IN0013': 1, 'IN0019': 1, 'IN0025': 1, 'IN0031': 1, 'IN0037': 1, 'IN0006': 1, 'IN0012': 1, 'IN0018': 1, 'IN0024': 1, 'IN0030': 1, 'IN0036': 1, 'IN0042': 1, 'IN0048': 1, 'ZJ0005': 1, 'ED0049': 1, 'IB0003': 1, 'IB0009': 1, 'IB0015': 1, 'IB0021': 1, 'IB0027': 1, 'IB0033': 1, 'IB0039': 1, 'IB0045': 1, 'IN0005': 1, 'IN0011': 1, 'IN0023': 1, 'IN0041': 1, 'IN0004': 1, 'IN0010': 1, 'IN0016': 1, 'IN0028': 1, 'IN0034': 1, 'PS0002': 1, 'PS0007': 1, 'IN0046': 1, 'ED0001': 1, 'ED0007': 1, 'ED0013': 1, 'ED0019': 1, 'ED0025': 1, 'ED0031': 1, 'ED0037': 1, 'ED0043': 1, 'ED0003': 1, 'ED0009': 1, 'ED0015': 1, 'ED0021': 1, 'ED0027': 1, 'ED0033': 1, 'ED0039': 1, 'ED0045': 1, 'IN0003': 1, 'IN0009': 1, 'IN0015': 1, 'IN0021': 1, 'IN0027': 1, 'IN0039': 1, 'IN0045': 1, 'IB0001': 1, 'IB0007': 1, 'IB0013': 1, 'IB0019': 1, 'IB0025': 1, 'IB0031': 1, 'IB0037': 1, 'IB0043': 1, 'PS0012': 1, 'ED0047': 1, 'PS0010': 1, 'IB0005': 1, 'IB0011': 1, 'IB0017': 1, 'IB0023': 1, 'IB0029': 1, 'IB0035': 1, 'IB0041': 1, 'IB0047': 1}\n"
     ]
    }
   ],
   "source": [
    "## get pagerank score\n",
    "def read(tx):\n",
    "    res = tx.run(\"MATCH p=(t:Teller)-[r:OPERATION]->(a:Account) return t.GUIYDAIH,a.pagerank\")            \n",
    "    ans = {}\n",
    "    for record in res:\n",
    "        ans[record[\"t.GUIYDAIH\"]] = float(record[\"a.pagerank\"])\n",
    "    return ans\n",
    "\n",
    "def translate_score(pagerank_score):\n",
    "    max_ = 0\n",
    "    min_ = float(\"inf\")\n",
    "    for key,value in pagerank_score.items():\n",
    "        if value > max_:\n",
    "            max_ = value\n",
    "        if value < min_:\n",
    "            min_ = value\n",
    "            \n",
    "    def func(score):\n",
    "        if max_ - min_ == 0:\n",
    "            return 1\n",
    "        return (score - min_) / (max_ - min_)\n",
    "    \n",
    "    for key in pagerank_score:\n",
    "        pagerank_score[key] = func(pagerank_score[key])\n",
    "    \n",
    "    return pagerank_score\n",
    "\n",
    "with driver.session() as neo:\n",
    "    pagerank_score = neo.write_transaction(read)\n",
    "    pagerank_score = translate_score(pagerank_score)\n",
    "    print(pagerank_score)\n",
    "    "
   ]
  },
  {
   "cell_type": "markdown",
   "metadata": {},
   "source": [
    "## 运行spanningTree，生成资金流向网络"
   ]
  },
  {
   "cell_type": "code",
   "execution_count": 97,
   "metadata": {},
   "outputs": [
    {
     "name": "stdout",
     "output_type": "stream",
     "text": [
      "<Path start=<Node id=20527 labels={'Account'} properties={'supervised_socre': 0.21202763463819854, 'supervised_label': 0, 'pagerank': 0.15000000000000002, 'community': 1, 'ACCT_ID': '9D46160646AB76E69D9E4C4A676FF503659CB1B079193446A424A0F590E9CFA60CA8B28D6583293D58DFEC42743FE91A0DEC746CCDA9AC58A7D854049CE852AD3810875652BABE709F8A728349AF1824'}> end=<Node id=15121 labels={'Account'} properties={'supervised_socre': 0.031138613644667405, 'supervised_label': 0, 'community': 1, 'pagerank': 0.15011900000000003, 'ACCT_ID': 'E4719CBBFB2D4210F0C3B21B5665A1C6BE58E3DCC6AB10B3DCCA1805B7190B506E2049EEEDDEBDB36B73E450F66196DBE2923642CA30E2F13DE65FC7486980700D09AA5F76FFCD75A0D9EE702158095A'}> size=1>\n",
      "<Path start=<Node id=20527 labels={'Account'} properties={'supervised_socre': 0.21202763463819854, 'supervised_label': 0, 'pagerank': 0.15000000000000002, 'community': 1, 'ACCT_ID': '9D46160646AB76E69D9E4C4A676FF503659CB1B079193446A424A0F590E9CFA60CA8B28D6583293D58DFEC42743FE91A0DEC746CCDA9AC58A7D854049CE852AD3810875652BABE709F8A728349AF1824'}> end=<Node id=15121 labels={'Account'} properties={'supervised_socre': 0.031138613644667405, 'supervised_label': 0, 'community': 1, 'pagerank': 0.15011900000000003, 'ACCT_ID': 'E4719CBBFB2D4210F0C3B21B5665A1C6BE58E3DCC6AB10B3DCCA1805B7190B506E2049EEEDDEBDB36B73E450F66196DBE2923642CA30E2F13DE65FC7486980700D09AA5F76FFCD75A0D9EE702158095A'}> size=1>\n",
      "<Path start=<Node id=20527 labels={'Account'} properties={'supervised_socre': 0.21202763463819854, 'supervised_label': 0, 'pagerank': 0.15000000000000002, 'community': 1, 'ACCT_ID': '9D46160646AB76E69D9E4C4A676FF503659CB1B079193446A424A0F590E9CFA60CA8B28D6583293D58DFEC42743FE91A0DEC746CCDA9AC58A7D854049CE852AD3810875652BABE709F8A728349AF1824'}> end=<Node id=15121 labels={'Account'} properties={'supervised_socre': 0.031138613644667405, 'supervised_label': 0, 'community': 1, 'pagerank': 0.15011900000000003, 'ACCT_ID': 'E4719CBBFB2D4210F0C3B21B5665A1C6BE58E3DCC6AB10B3DCCA1805B7190B506E2049EEEDDEBDB36B73E450F66196DBE2923642CA30E2F13DE65FC7486980700D09AA5F76FFCD75A0D9EE702158095A'}> size=1>\n",
      "<Path start=<Node id=20527 labels={'Account'} properties={'supervised_socre': 0.21202763463819854, 'supervised_label': 0, 'pagerank': 0.15000000000000002, 'community': 1, 'ACCT_ID': '9D46160646AB76E69D9E4C4A676FF503659CB1B079193446A424A0F590E9CFA60CA8B28D6583293D58DFEC42743FE91A0DEC746CCDA9AC58A7D854049CE852AD3810875652BABE709F8A728349AF1824'}> end=<Node id=15121 labels={'Account'} properties={'supervised_socre': 0.031138613644667405, 'supervised_label': 0, 'community': 1, 'pagerank': 0.15011900000000003, 'ACCT_ID': 'E4719CBBFB2D4210F0C3B21B5665A1C6BE58E3DCC6AB10B3DCCA1805B7190B506E2049EEEDDEBDB36B73E450F66196DBE2923642CA30E2F13DE65FC7486980700D09AA5F76FFCD75A0D9EE702158095A'}> size=1>\n",
      "<Path start=<Node id=20527 labels={'Account'} properties={'supervised_socre': 0.21202763463819854, 'supervised_label': 0, 'pagerank': 0.15000000000000002, 'community': 1, 'ACCT_ID': '9D46160646AB76E69D9E4C4A676FF503659CB1B079193446A424A0F590E9CFA60CA8B28D6583293D58DFEC42743FE91A0DEC746CCDA9AC58A7D854049CE852AD3810875652BABE709F8A728349AF1824'}> end=<Node id=15121 labels={'Account'} properties={'supervised_socre': 0.031138613644667405, 'supervised_label': 0, 'community': 1, 'pagerank': 0.15011900000000003, 'ACCT_ID': 'E4719CBBFB2D4210F0C3B21B5665A1C6BE58E3DCC6AB10B3DCCA1805B7190B506E2049EEEDDEBDB36B73E450F66196DBE2923642CA30E2F13DE65FC7486980700D09AA5F76FFCD75A0D9EE702158095A'}> size=1>\n",
      "<Path start=<Node id=20527 labels={'Account'} properties={'supervised_socre': 0.21202763463819854, 'supervised_label': 0, 'pagerank': 0.15000000000000002, 'community': 1, 'ACCT_ID': '9D46160646AB76E69D9E4C4A676FF503659CB1B079193446A424A0F590E9CFA60CA8B28D6583293D58DFEC42743FE91A0DEC746CCDA9AC58A7D854049CE852AD3810875652BABE709F8A728349AF1824'}> end=<Node id=15121 labels={'Account'} properties={'supervised_socre': 0.031138613644667405, 'supervised_label': 0, 'community': 1, 'pagerank': 0.15011900000000003, 'ACCT_ID': 'E4719CBBFB2D4210F0C3B21B5665A1C6BE58E3DCC6AB10B3DCCA1805B7190B506E2049EEEDDEBDB36B73E450F66196DBE2923642CA30E2F13DE65FC7486980700D09AA5F76FFCD75A0D9EE702158095A'}> size=1>\n",
      "<Path start=<Node id=20527 labels={'Account'} properties={'supervised_socre': 0.21202763463819854, 'supervised_label': 0, 'pagerank': 0.15000000000000002, 'community': 1, 'ACCT_ID': '9D46160646AB76E69D9E4C4A676FF503659CB1B079193446A424A0F590E9CFA60CA8B28D6583293D58DFEC42743FE91A0DEC746CCDA9AC58A7D854049CE852AD3810875652BABE709F8A728349AF1824'}> end=<Node id=15121 labels={'Account'} properties={'supervised_socre': 0.031138613644667405, 'supervised_label': 0, 'community': 1, 'pagerank': 0.15011900000000003, 'ACCT_ID': 'E4719CBBFB2D4210F0C3B21B5665A1C6BE58E3DCC6AB10B3DCCA1805B7190B506E2049EEEDDEBDB36B73E450F66196DBE2923642CA30E2F13DE65FC7486980700D09AA5F76FFCD75A0D9EE702158095A'}> size=1>\n",
      "<Path start=<Node id=20527 labels={'Account'} properties={'supervised_socre': 0.21202763463819854, 'supervised_label': 0, 'pagerank': 0.15000000000000002, 'community': 1, 'ACCT_ID': '9D46160646AB76E69D9E4C4A676FF503659CB1B079193446A424A0F590E9CFA60CA8B28D6583293D58DFEC42743FE91A0DEC746CCDA9AC58A7D854049CE852AD3810875652BABE709F8A728349AF1824'}> end=<Node id=15121 labels={'Account'} properties={'supervised_socre': 0.031138613644667405, 'supervised_label': 0, 'community': 1, 'pagerank': 0.15011900000000003, 'ACCT_ID': 'E4719CBBFB2D4210F0C3B21B5665A1C6BE58E3DCC6AB10B3DCCA1805B7190B506E2049EEEDDEBDB36B73E450F66196DBE2923642CA30E2F13DE65FC7486980700D09AA5F76FFCD75A0D9EE702158095A'}> size=1>\n",
      "<Path start=<Node id=20527 labels={'Account'} properties={'supervised_socre': 0.21202763463819854, 'supervised_label': 0, 'pagerank': 0.15000000000000002, 'community': 1, 'ACCT_ID': '9D46160646AB76E69D9E4C4A676FF503659CB1B079193446A424A0F590E9CFA60CA8B28D6583293D58DFEC42743FE91A0DEC746CCDA9AC58A7D854049CE852AD3810875652BABE709F8A728349AF1824'}> end=<Node id=15121 labels={'Account'} properties={'supervised_socre': 0.031138613644667405, 'supervised_label': 0, 'community': 1, 'pagerank': 0.15011900000000003, 'ACCT_ID': 'E4719CBBFB2D4210F0C3B21B5665A1C6BE58E3DCC6AB10B3DCCA1805B7190B506E2049EEEDDEBDB36B73E450F66196DBE2923642CA30E2F13DE65FC7486980700D09AA5F76FFCD75A0D9EE702158095A'}> size=1>\n",
      "<Path start=<Node id=20527 labels={'Account'} properties={'supervised_socre': 0.21202763463819854, 'supervised_label': 0, 'pagerank': 0.15000000000000002, 'community': 1, 'ACCT_ID': '9D46160646AB76E69D9E4C4A676FF503659CB1B079193446A424A0F590E9CFA60CA8B28D6583293D58DFEC42743FE91A0DEC746CCDA9AC58A7D854049CE852AD3810875652BABE709F8A728349AF1824'}> end=<Node id=15121 labels={'Account'} properties={'supervised_socre': 0.031138613644667405, 'supervised_label': 0, 'community': 1, 'pagerank': 0.15011900000000003, 'ACCT_ID': 'E4719CBBFB2D4210F0C3B21B5665A1C6BE58E3DCC6AB10B3DCCA1805B7190B506E2049EEEDDEBDB36B73E450F66196DBE2923642CA30E2F13DE65FC7486980700D09AA5F76FFCD75A0D9EE702158095A'}> size=1>\n"
     ]
    }
   ],
   "source": [
    "acct_id = '9D46160646AB76E69D9E4C4A676FF503659CB1B079193446A424A0F590E9CFA60CA8B28D6583293D58DFEC42743FE91A0DEC746CCDA9AC58A7D854049CE852AD3810875652BABE709F8A728349AF1824'\n",
    "def generate_path(tx,acct_id):\n",
    "    #print(\"MATCH (n:Account {{ACCT_ID: '{}'}}) CALL algo.spanningTree.minimum('Account', 'transaction', 'amount', id(n), {{write:true, writeProperty: '{}'}}) YIELD loadMillis, computeMillis, writeMillis, effectiveNodeCount RETURN loadMillis, computeMillis, writeMillis, effectiveNodeCount;\".format(acct_id,acct_id))\n",
    "    tx.run(\"MATCH (n:Account {{ACCT_ID: '{}'}}) CALL algo.spanningTree.minimum('Account', 'transaction', 'amount', id(n), {{write:true, writeProperty: '{}'}}) YIELD loadMillis, computeMillis, writeMillis, effectiveNodeCount RETURN loadMillis, computeMillis, writeMillis, effectiveNodeCount;\".format(acct_id,acct_id))\n",
    "    \n",
    "def get_path(tx,acct_id, num = 10):\n",
    "    #print(\"MATCH p=()-[r:`{}`]->() RETURN p LIMIT 10\".format(acct_id))\n",
    "    return tx.run(\"MATCH p=()-[r:`{}`]->() RETURN p LIMIT {}\".format(acct_id, num))\n",
    "\n",
    "with driver.session() as neo:\n",
    "    neo.write_transaction(generate_path,acct_id)\n",
    "    res = neo.write_transaction(get_path,acct_id)\n",
    "    for item in res:\n",
    "        print(item['p'])\n",
    "    "
   ]
  }
 ],
 "metadata": {
  "kernelspec": {
   "display_name": "Python 3",
   "language": "python",
   "name": "python3"
  },
  "language_info": {
   "codemirror_mode": {
    "name": "ipython",
    "version": 3
   },
   "file_extension": ".py",
   "mimetype": "text/x-python",
   "name": "python",
   "nbconvert_exporter": "python",
   "pygments_lexer": "ipython3",
   "version": "3.7.0"
  }
 },
 "nbformat": 4,
 "nbformat_minor": 2
}
