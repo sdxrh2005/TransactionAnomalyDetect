{
 "cells": [
  {
   "cell_type": "code",
   "execution_count": 32,
   "metadata": {},
   "outputs": [],
   "source": [
    "import numpy as np\n",
    "from sklearn.metrics import classification_report\n",
    "from sklearn.preprocessing import StandardScaler\n",
    "from sklearn.preprocessing import LabelEncoder\n",
    "from sklearn.model_selection import train_test_split\n",
    "from sklearn.utils import class_weight\n",
    "from sklearn.ensemble import IsolationForest\n",
    "from xgboost import XGBClassifier\n",
    "\n",
    "import time \n",
    "import sys\n",
    "import os\n",
    "from collections import Counter\n",
    "import pickle as pkl\n",
    "import pandas as pd\n",
    "from matplotlib import pyplot as plt"
   ]
  },
  {
   "cell_type": "code",
   "execution_count": 2,
   "metadata": {},
   "outputs": [],
   "source": [
    "def load_dataset(filename):\n",
    "    dataset = pd.read_csv(filename,index_col = \"TR_NO\",usecols = [\"TR_NO\",\"TR_AMT\",\"TR_BAL_AMT\",\"FUND_USE\",\"IS_CASH\"])\n",
    "    dataset = dataset.replace([np.inf, -np.inf], np.nan).fillna(value=0)\n",
    "    return dataset\n",
    "\n",
    "def get_negtive_trans(filename):\n",
    "    return set(pd.read_csv(filename)[\"TR_NO\"].values)"
   ]
  },
  {
   "cell_type": "code",
   "execution_count": 3,
   "metadata": {},
   "outputs": [],
   "source": [
    "training_dataset_filename = \"T3H_TRANS_ALL_WW_DATA_TABLE.csv\"\n",
    "case_filename = \"T3H_TRANS_YSB_WW_DATA_TABLE.csv\"\n",
    "\n",
    "## ------- load dataset --------\n",
    "if not os.path.exists(\"unsup_cases.pkl\") or not os.path.exists(\"unsup_training_dataset.pkl\"):\n",
    "    training_dataset = load_dataset(training_dataset_filename)\n",
    "    cases = get_negtive_trans(case_filename)\n",
    "\n",
    "    with open(\"unsup_cases.pkl\",\"wb\") as f:\n",
    "        pkl.dump(cases,f)\n",
    "    with open(\"unsup_training_dataset.pkl\",\"wb\") as f:\n",
    "        pkl.dump(training_dataset,f)\n",
    "else:\n",
    "    with open(\"unsup_cases.pkl\",\"rb\") as f:\n",
    "        cases = pkl.load(f)\n",
    "    with open(\"unsup_training_dataset.pkl\",\"rb\") as f:\n",
    "        training_dataset = pkl.load(f)"
   ]
  },
  {
   "cell_type": "markdown",
   "metadata": {},
   "source": [
    "## Feature engneering"
   ]
  },
  {
   "cell_type": "code",
   "execution_count": 4,
   "metadata": {
    "scrolled": true
   },
   "outputs": [
    {
     "data": {
      "text/html": [
       "<div>\n",
       "<style scoped>\n",
       "    .dataframe tbody tr th:only-of-type {\n",
       "        vertical-align: middle;\n",
       "    }\n",
       "\n",
       "    .dataframe tbody tr th {\n",
       "        vertical-align: top;\n",
       "    }\n",
       "\n",
       "    .dataframe thead th {\n",
       "        text-align: right;\n",
       "    }\n",
       "</style>\n",
       "<table border=\"1\" class=\"dataframe\">\n",
       "  <thead>\n",
       "    <tr style=\"text-align: right;\">\n",
       "      <th></th>\n",
       "      <th>IS_CASH</th>\n",
       "      <th>TR_AMT</th>\n",
       "      <th>TR_BAL_AMT</th>\n",
       "      <th>FUND_USE</th>\n",
       "    </tr>\n",
       "    <tr>\n",
       "      <th>TR_NO</th>\n",
       "      <th></th>\n",
       "      <th></th>\n",
       "      <th></th>\n",
       "      <th></th>\n",
       "    </tr>\n",
       "  </thead>\n",
       "  <tbody>\n",
       "    <tr>\n",
       "      <th>0013840100000026</th>\n",
       "      <td>1</td>\n",
       "      <td>61260.0</td>\n",
       "      <td>111260.0</td>\n",
       "      <td>974</td>\n",
       "    </tr>\n",
       "    <tr>\n",
       "      <th>0013840100000027</th>\n",
       "      <td>1</td>\n",
       "      <td>110000.0</td>\n",
       "      <td>1260.0</td>\n",
       "      <td>783</td>\n",
       "    </tr>\n",
       "    <tr>\n",
       "      <th>0013840100000027</th>\n",
       "      <td>1</td>\n",
       "      <td>110000.0</td>\n",
       "      <td>110000.0</td>\n",
       "      <td>783</td>\n",
       "    </tr>\n",
       "    <tr>\n",
       "      <th>0013840100000028</th>\n",
       "      <td>0</td>\n",
       "      <td>10000.0</td>\n",
       "      <td>0.0</td>\n",
       "      <td>973</td>\n",
       "    </tr>\n",
       "    <tr>\n",
       "      <th>0013840100000029</th>\n",
       "      <td>0</td>\n",
       "      <td>12000.0</td>\n",
       "      <td>12000.0</td>\n",
       "      <td>737</td>\n",
       "    </tr>\n",
       "  </tbody>\n",
       "</table>\n",
       "</div>"
      ],
      "text/plain": [
       "                  IS_CASH    TR_AMT  TR_BAL_AMT  FUND_USE\n",
       "TR_NO                                                    \n",
       "0013840100000026        1   61260.0    111260.0       974\n",
       "0013840100000027        1  110000.0      1260.0       783\n",
       "0013840100000027        1  110000.0    110000.0       783\n",
       "0013840100000028        0   10000.0         0.0       973\n",
       "0013840100000029        0   12000.0     12000.0       737"
      ]
     },
     "execution_count": 4,
     "metadata": {},
     "output_type": "execute_result"
    }
   ],
   "source": [
    "encoder = LabelEncoder()\n",
    "training_dataset[\"FUND_USE\"] = encoder.fit_transform(training_dataset[\"FUND_USE\"].astype(str))\n",
    "training_dataset.head()"
   ]
  },
  {
   "cell_type": "markdown",
   "metadata": {},
   "source": [
    "## 查看每个TR_NO交易个数"
   ]
  },
  {
   "cell_type": "code",
   "execution_count": 5,
   "metadata": {},
   "outputs": [
    {
     "name": "stdout",
     "output_type": "stream",
     "text": [
      "TR_NO\n",
      "00000000000020180814000300014016    1\n",
      "00000000000020180814000300014021    1\n",
      "00000000000020180814000300014026    1\n",
      "00000000000020180814000300014032    1\n",
      "00000000000020180814000300014038    1\n",
      "dtype: int64\n",
      "\n",
      "TR_NO\n",
      "ED00010101000001    30\n",
      "ED00010101000011    23\n",
      "ED00010101000040    24\n",
      "ED00010101000110    21\n",
      "ED00010101000126    15\n",
      "dtype: int64\n",
      "\n",
      "count    4698.000000\n",
      "mean       24.579821\n",
      "std        10.213524\n",
      "min         1.000000\n",
      "25%        18.000000\n",
      "50%        31.000000\n",
      "75%        32.000000\n",
      "max        55.000000\n",
      "dtype: float64\n"
     ]
    }
   ],
   "source": [
    "print(training_dataset.groupby(\"TR_NO\").size().head())\n",
    "print(\"\")\n",
    "print(training_dataset.loc[cases].groupby(\"TR_NO\").size().head())\n",
    "print(\"\")\n",
    "print(training_dataset.loc[cases].groupby(\"TR_NO\").size().describe())"
   ]
  },
  {
   "cell_type": "markdown",
   "metadata": {},
   "source": [
    "## create NUM_TRANS"
   ]
  },
  {
   "cell_type": "code",
   "execution_count": 6,
   "metadata": {
    "scrolled": true
   },
   "outputs": [],
   "source": [
    "table = training_dataset.groupby(\"TR_NO\").size().to_dict()\n",
    "values = training_dataset.index.to_series().map(table)\n",
    "training_dataset[\"NUM_TRANS\"] = values"
   ]
  },
  {
   "cell_type": "code",
   "execution_count": 7,
   "metadata": {},
   "outputs": [],
   "source": [
    "abnormal_transactions = training_dataset.loc[cases]"
   ]
  },
  {
   "cell_type": "markdown",
   "metadata": {},
   "source": [
    "## IS_CASH"
   ]
  },
  {
   "cell_type": "code",
   "execution_count": 8,
   "metadata": {
    "scrolled": true
   },
   "outputs": [
    {
     "data": {
      "text/plain": [
       "<matplotlib.axes._subplots.AxesSubplot at 0x1494bd0f0>"
      ]
     },
     "execution_count": 8,
     "metadata": {},
     "output_type": "execute_result"
    },
    {
     "data": {
      "image/png": "[encoded data removed]",
      "text/plain": [
       "<Figure size 432x288 with 2 Axes>"
      ]
     },
     "metadata": {
      "needs_background": "light"
     },
     "output_type": "display_data"
    }
   ],
   "source": [
    "%matplotlib inline\n",
    "plt.subplot(2, 1, 1)\n",
    "abnormal_transactions[\"IS_CASH\"].hist(bins = 40)\n",
    "plt.subplot(2,1,2)\n",
    "training_dataset[\"IS_CASH\"].hist(bins = 40)"
   ]
  },
  {
   "cell_type": "markdown",
   "metadata": {},
   "source": [
    "## FUND_USE"
   ]
  },
  {
   "cell_type": "code",
   "execution_count": 16,
   "metadata": {
    "scrolled": true
   },
   "outputs": [
    {
     "data": {
      "text/plain": [
       "<matplotlib.axes._subplots.AxesSubplot at 0x138b459b0>"
      ]
     },
     "execution_count": 16,
     "metadata": {},
     "output_type": "execute_result"
    },
    {
     "data": {
      "image/png": "[encoded data removed]",
      "text/plain": [
       "<Figure size 432x288 with 2 Axes>"
      ]
     },
     "metadata": {
      "needs_background": "light"
     },
     "output_type": "display_data"
    }
   ],
   "source": [
    "%matplotlib inline\n",
    "plt.subplot(2, 1, 1)\n",
    "abnormal_transactions[\"FUND_USE\"].hist(bins = 40)\n",
    "plt.subplot(2,1,2)\n",
    "training_dataset[\"FUND_USE\"].hist(bins = 40)"
   ]
  },
  {
   "cell_type": "markdown",
   "metadata": {},
   "source": [
    "## NUM_TRANS"
   ]
  },
  {
   "cell_type": "code",
   "execution_count": 17,
   "metadata": {},
   "outputs": [
    {
     "data": {
      "text/plain": [
       "<matplotlib.axes._subplots.AxesSubplot at 0x13b948400>"
      ]
     },
     "execution_count": 17,
     "metadata": {},
     "output_type": "execute_result"
    },
    {
     "data": {
      "image/png": "[encoded data removed]",
      "text/plain": [
       "<Figure size 432x288 with 2 Axes>"
      ]
     },
     "metadata": {
      "needs_background": "light"
     },
     "output_type": "display_data"
    }
   ],
   "source": [
    "%matplotlib inline\n",
    "plt.subplot(2, 1, 1)\n",
    "abnormal_transactions[\"NUM_TRANS\"].hist(bins = 20)\n",
    "plt.subplot(2,1,2)\n",
    "training_dataset[\"NUM_TRANS\"].hist(bins = 20)"
   ]
  },
  {
   "cell_type": "code",
   "execution_count": 35,
   "metadata": {},
   "outputs": [],
   "source": [
    "def creat_labels(training_dataset,cases):\n",
    "    training_dataset[\"Y\"] = 1\n",
    "    training_dataset.loc[training_dataset.index.isin(cases),\"Y\"] = 0\n",
    "    labels = training_dataset[\"Y\"].values\n",
    "    training_dataset.drop(labels = \"Y\",axis = 1,inplace = True)\n",
    "    return labels\n",
    "labels = creat_labels(training_dataset,cases)    "
   ]
  },
  {
   "cell_type": "code",
   "execution_count": 36,
   "metadata": {
    "scrolled": true
   },
   "outputs": [
    {
     "name": "stdout",
     "output_type": "stream",
     "text": [
      "samples distribution: Counter({1: 3648850, 0: 115476})\n"
     ]
    }
   ],
   "source": [
    "print(\"samples distribution: {}\".format(Counter(labels)))"
   ]
  },
  {
   "cell_type": "code",
   "execution_count": 42,
   "metadata": {
    "scrolled": true
   },
   "outputs": [],
   "source": [
    "scaler = StandardScaler()\n",
    "training_dataset = scaler.fit_transform(training_dataset)"
   ]
  },
  {
   "cell_type": "code",
   "execution_count": 47,
   "metadata": {
    "scrolled": true
   },
   "outputs": [
    {
     "data": {
      "text/plain": [
       "XGBClassifier(base_score=0.5, booster='gbtree', colsample_bylevel=1,\n",
       "       colsample_bytree=1, gamma=0, learning_rate=0.1, max_delta_step=0,\n",
       "       max_depth=3, min_child_weight=1, missing=None, n_estimators=100,\n",
       "       n_jobs=1, nthread=None, objective='binary:logistic', random_state=0,\n",
       "       reg_alpha=0, reg_lambda=1, scale_pos_weight=0.03164723131945681,\n",
       "       seed=None, silent=True, subsample=1)"
      ]
     },
     "execution_count": 47,
     "metadata": {},
     "output_type": "execute_result"
    }
   ],
   "source": [
    "X_train, X_test, y_train, y_test = train_test_split(training_dataset,labels,test_size=0.3, random_state=42)\n",
    "\n",
    "clf = XGBClassifier(scale_pos_weight = Counter(labels)[0] / Counter(labels)[1])\n",
    "clf.fit(X_train, y_train)"
   ]
  },
  {
   "cell_type": "code",
   "execution_count": 48,
   "metadata": {},
   "outputs": [
    {
     "name": "stdout",
     "output_type": "stream",
     "text": [
      "              precision    recall  f1-score   support\n",
      "\n",
      "           0       0.25      0.98      0.39     34564\n",
      "           1       1.00      0.91      0.95   1094734\n",
      "\n",
      "   micro avg       0.91      0.91      0.91   1129298\n",
      "   macro avg       0.62      0.94      0.67   1129298\n",
      "weighted avg       0.98      0.91      0.93   1129298\n",
      "\n"
     ]
    }
   ],
   "source": [
    "y_true, y_pred = y_test, clf.predict(X_test)\n",
    "print(classification_report(y_true, y_pred))"
   ]
  }
 ],
 "metadata": {
  "kernelspec": {
   "display_name": "Python 3",
   "language": "python",
   "name": "python3"
  },
  "language_info": {
   "codemirror_mode": {
    "name": "ipython",
    "version": 3
   },
   "file_extension": ".py",
   "mimetype": "text/x-python",
   "name": "python",
   "nbconvert_exporter": "python",
   "pygments_lexer": "ipython3",
   "version": "3.6.8"
  }
 },
 "nbformat": 4,
 "nbformat_minor": 2
}
